{
 "cells": [
  {
   "cell_type": "code",
   "execution_count": 129,
   "metadata": {
    "collapsed": false
   },
   "outputs": [],
   "source": [
    "import praw\n",
    "# import warnings\n",
    "# warnings.filterwarnings('ignore')"
   ]
  },
  {
   "cell_type": "code",
   "execution_count": 130,
   "metadata": {
    "collapsed": true
   },
   "outputs": [],
   "source": [
    "from pprint import pprint"
   ]
  },
  {
   "cell_type": "code",
   "execution_count": 131,
   "metadata": {
    "collapsed": false
   },
   "outputs": [],
   "source": [
    "import sqlite3 as sqlite"
   ]
  },
  {
   "cell_type": "code",
   "execution_count": 132,
   "metadata": {
    "collapsed": false
   },
   "outputs": [],
   "source": [
    "conn = sqlite.connect('reddit_database.db')\n",
    "c = conn.cursor()"
   ]
  },
  {
   "cell_type": "code",
   "execution_count": 133,
   "metadata": {
    "collapsed": false
   },
   "outputs": [
    {
     "data": {
      "text/plain": [
       "<sqlite3.Cursor at 0x24a0bfa8b20>"
      ]
     },
     "execution_count": 133,
     "metadata": {},
     "output_type": "execute_result"
    }
   ],
   "source": [
    "c.execute('''CREATE TABLE IF NOT EXISTS subreddits\n",
    "             (subId text, postId text)''')\n",
    "c.execute('''CREATE TABLE IF NOT EXISTS posts\n",
    "             (postId text, postTitle text, postText text, postTime text, postUpvote text, totalComments text)''')\n",
    "c.execute('''CREATE TABLE IF NOT EXISTS comments\n",
    "             (postId text, commentId text, commentText text, commentTime text, commentUpvotes text)''')"
   ]
  },
  {
   "cell_type": "code",
   "execution_count": 134,
   "metadata": {
    "collapsed": false
   },
   "outputs": [],
   "source": [
    "r = praw.Reddit(user_agent=\"Reddit Analysis Script\")"
   ]
  },
  {
   "cell_type": "code",
   "execution_count": 135,
   "metadata": {
    "collapsed": false
   },
   "outputs": [],
   "source": [
    "# username = \"r3ddit3rs\"\n",
    "# password = \"redditanalysis\""
   ]
  },
  {
   "cell_type": "code",
   "execution_count": 136,
   "metadata": {
    "collapsed": false
   },
   "outputs": [],
   "source": [
    "# r.login(username, password)"
   ]
  },
  {
   "cell_type": "code",
   "execution_count": 137,
   "metadata": {
    "collapsed": false
   },
   "outputs": [],
   "source": [
    "subreddit = r.get_subreddit('worldnews')"
   ]
  },
  {
   "cell_type": "code",
   "execution_count": 138,
   "metadata": {
    "collapsed": false,
    "scrolled": true
   },
   "outputs": [
    {
     "name": "stdout",
     "output_type": "stream",
     "text": [
      "Total 1 submissions scraped.\n",
      "Total 2 submissions scraped.\n",
      "Total 3 submissions scraped.\n"
     ]
    }
   ],
   "source": [
    "count = 0\n",
    "for submission in subreddit.get_top(limit=1000):\n",
    "    subreddit_id = subreddit.id\n",
    "    try:\n",
    "        submission_id = submission.id\n",
    "    except:\n",
    "        submission_id = str(999999)\n",
    "    try:\n",
    "        submission_title = submission.title\n",
    "    except:\n",
    "        submission_title = str(999999)\n",
    "    try:\n",
    "        submission_text = submission.selftext\n",
    "    except:\n",
    "        submission_text = str(999999)\n",
    "    try:\n",
    "        submission_created_at = submission.created_utc\n",
    "    except:\n",
    "        submission_created_at = str(999999)\n",
    "    try:\n",
    "        submission_ups = submission.ups\n",
    "    except:\n",
    "        submission_ups = str(999999)\n",
    "    try:\n",
    "        submission_total_comments = submission.num_comments\n",
    "    except:\n",
    "        submission_total_comments = str(999999)\n",
    "    \n",
    "    c.execute(\"INSERT INTO subreddits VALUES (?, ?)\", (subreddit_id, submission_id))\n",
    "    c.execute(\"INSERT INTO posts VALUES (?, ?, ?, ?, ?, ?)\",\n",
    "              (submission_id, submission_title, submission_text, submission_created_at, submission_ups, submission_total_comments))\n",
    "    submission.replace_more_comments(limit=None, threshold=0)\n",
    "    comments = praw.helpers.flatten_tree(submission.comments)\n",
    "    #print(submission_id, submission_text, submission_created_at, submission_ups, submission_total_comments)\n",
    "    for comment in comments:\n",
    "        try:\n",
    "            comment_id = comment.id\n",
    "        except:\n",
    "            comment_id = str(999999)\n",
    "        try:\n",
    "            comment_body = comment.body\n",
    "        except:\n",
    "            comment_body = str(999999)\n",
    "        try:\n",
    "            comment_created_at = comment.created_utc\n",
    "        except:\n",
    "            comment_created_at = str(999999)\n",
    "        try:\n",
    "            comment_ups = comment.ups\n",
    "        except:\n",
    "            comment_ups = str(999999)\n",
    "        \n",
    "        c.execute(\"INSERT INTO comments VALUES (?, ?, ?, ?,?)\",\n",
    "                  (submission_id,comment_id, comment_body, comment_created_at, comment_ups))\n",
    "        #print(submission_id,comment_id, comment_body, comment_created_at, comment_ups)\n",
    "    count = count + 1\n",
    "    print(\"Total \" + str(count) + \" submissions scraped.\")"
   ]
  },
  {
   "cell_type": "code",
   "execution_count": 139,
   "metadata": {
    "collapsed": false
   },
   "outputs": [],
   "source": [
    "conn.commit()\n",
    "conn.close()"
   ]
  },
  {
   "cell_type": "code",
   "execution_count": null,
   "metadata": {
    "collapsed": true
   },
   "outputs": [],
   "source": []
  }
 ],
 "metadata": {
  "kernelspec": {
   "display_name": "Python 3",
   "language": "python",
   "name": "python3"
  },
  "language_info": {
   "codemirror_mode": {
    "name": "ipython",
    "version": 3
   },
   "file_extension": ".py",
   "mimetype": "text/x-python",
   "name": "python",
   "nbconvert_exporter": "python",
   "pygments_lexer": "ipython3",
   "version": "3.5.2"
  }
 },
 "nbformat": 4,
 "nbformat_minor": 0
}
